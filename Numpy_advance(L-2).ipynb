{
 "cells": [
  {
   "cell_type": "code",
   "execution_count": 1,
   "id": "3ab8d150",
   "metadata": {},
   "outputs": [],
   "source": [
    "import numpy as np"
   ]
  },
  {
   "cell_type": "code",
   "execution_count": 2,
   "id": "08ac6832",
   "metadata": {},
   "outputs": [],
   "source": [
    "data = np.array([[1],[2], [3]])"
   ]
  },
  {
   "cell_type": "code",
   "execution_count": 3,
   "id": "efe71c33",
   "metadata": {},
   "outputs": [
    {
     "data": {
      "text/plain": [
       "2"
      ]
     },
     "execution_count": 3,
     "metadata": {},
     "output_type": "execute_result"
    }
   ],
   "source": [
    "data.ndim"
   ]
  },
  {
   "cell_type": "code",
   "execution_count": 5,
   "id": "cc321319",
   "metadata": {},
   "outputs": [
    {
     "data": {
      "text/plain": [
       "array([1, 2, 3])"
      ]
     },
     "execution_count": 5,
     "metadata": {},
     "output_type": "execute_result"
    }
   ],
   "source": [
    "a = np.squeeze(data)\n",
    "a"
   ]
  },
  {
   "cell_type": "code",
   "execution_count": 6,
   "id": "81f978dc",
   "metadata": {},
   "outputs": [
    {
     "data": {
      "text/plain": [
       "1"
      ]
     },
     "execution_count": 6,
     "metadata": {},
     "output_type": "execute_result"
    }
   ],
   "source": [
    "a.ndim"
   ]
  },
  {
   "cell_type": "code",
   "execution_count": 7,
   "id": "335f570a",
   "metadata": {},
   "outputs": [],
   "source": [
    "### What is the industrial use of np.squeeze()\n",
    "### it is used in image processing cases and used to squ\n",
    "#eze array by its one dimension"
   ]
  },
  {
   "cell_type": "code",
   "execution_count": 10,
   "id": "3bcdae49",
   "metadata": {},
   "outputs": [
    {
     "name": "stdout",
     "output_type": "stream",
     "text": [
      "[[1]\n",
      " [2]\n",
      " [3]]\n"
     ]
    },
    {
     "data": {
      "text/plain": [
       "array([1, 1, 1, 1, 2, 2, 2, 2, 3, 3, 3, 3])"
      ]
     },
     "execution_count": 10,
     "metadata": {},
     "output_type": "execute_result"
    }
   ],
   "source": [
    "### repeat\n",
    "print(data)\n",
    "np.repeat(data, 4)\n"
   ]
  },
  {
   "cell_type": "code",
   "execution_count": 12,
   "id": "11b211f3",
   "metadata": {},
   "outputs": [
    {
     "data": {
      "text/plain": [
       "array([1, 1, 2, 2, 3, 3, 4, 4])"
      ]
     },
     "execution_count": 12,
     "metadata": {},
     "output_type": "execute_result"
    }
   ],
   "source": [
    "a = np.array([[1,2], [3,4]])\n",
    "b = np.repeat(a,2)\n",
    "### it flattens the data means array of any dim converte\n",
    "### d into 1 dim array\n",
    "b"
   ]
  },
  {
   "cell_type": "code",
   "execution_count": 15,
   "id": "45bbb919",
   "metadata": {},
   "outputs": [
    {
     "data": {
      "text/plain": [
       "array([[1, 1, 2, 2],\n",
       "       [3, 3, 4, 4]])"
      ]
     },
     "execution_count": 15,
     "metadata": {},
     "output_type": "execute_result"
    }
   ],
   "source": [
    "b.reshape(2,4)"
   ]
  },
  {
   "cell_type": "code",
   "execution_count": 16,
   "id": "2a03f0a7",
   "metadata": {},
   "outputs": [
    {
     "data": {
      "text/plain": [
       "array([[1, 1, 2, 2],\n",
       "       [3, 3, 4, 4]])"
      ]
     },
     "execution_count": 16,
     "metadata": {},
     "output_type": "execute_result"
    }
   ],
   "source": [
    "np.repeat(a, 2, axis=1)"
   ]
  },
  {
   "cell_type": "code",
   "execution_count": 17,
   "id": "2c8e003e",
   "metadata": {},
   "outputs": [
    {
     "data": {
      "text/plain": [
       "array([[1, 2],\n",
       "       [1, 2],\n",
       "       [3, 4],\n",
       "       [3, 4]])"
      ]
     },
     "execution_count": 17,
     "metadata": {},
     "output_type": "execute_result"
    }
   ],
   "source": [
    "np.repeat(a, 2, axis=0)"
   ]
  },
  {
   "cell_type": "code",
   "execution_count": 18,
   "id": "e6befc3f",
   "metadata": {},
   "outputs": [
    {
     "data": {
      "text/plain": [
       "array([[8, 9, 1],\n",
       "       [2, 3, 4],\n",
       "       [5, 6, 7]])"
      ]
     },
     "execution_count": 18,
     "metadata": {},
     "output_type": "execute_result"
    }
   ],
   "source": [
    "# Roll array elements along a given axis.\n",
    "# np.roll(a, shift, axis=None)\n",
    "a = np.array([[1,2,3],[4,5,6],[7,8,9]])\n",
    "np.roll(a, 2)"
   ]
  },
  {
   "cell_type": "code",
   "execution_count": 21,
   "id": "da1366b0",
   "metadata": {},
   "outputs": [
    {
     "data": {
      "text/plain": [
       "array([4, 1, 2, 3])"
      ]
     },
     "execution_count": 21,
     "metadata": {},
     "output_type": "execute_result"
    }
   ],
   "source": [
    "b = [1,2,3,4]\n",
    "np.roll(b,1)\n",
    "### it is used to shift the data without losing data"
   ]
  },
  {
   "cell_type": "code",
   "execution_count": 22,
   "id": "9cfaf619",
   "metadata": {},
   "outputs": [
    {
     "data": {
      "text/plain": [
       "array([[1, 0, 0, 0],\n",
       "       [0, 2, 0, 0],\n",
       "       [0, 0, 3, 0],\n",
       "       [0, 0, 0, 4]])"
      ]
     },
     "execution_count": 22,
     "metadata": {},
     "output_type": "execute_result"
    }
   ],
   "source": [
    "np.diag(np.array([1,2,3,4]))"
   ]
  },
  {
   "cell_type": "code",
   "execution_count": 23,
   "id": "581c2055",
   "metadata": {},
   "outputs": [
    {
     "data": {
      "text/plain": [
       "array([2, 3, 4, 1])"
      ]
     },
     "execution_count": 23,
     "metadata": {},
     "output_type": "execute_result"
    }
   ],
   "source": [
    "np.roll(b, -1)"
   ]
  },
  {
   "cell_type": "code",
   "execution_count": 24,
   "id": "6c070fca",
   "metadata": {},
   "outputs": [],
   "source": [
    "### we prefer shift operation in pandas than roll functi\n",
    "###-on in numpy. roll() preserves the data while shift "
   ]
  },
  {
   "cell_type": "markdown",
   "id": "406acc04",
   "metadata": {},
   "source": [
    "### Binary Operations on array:-\n"
   ]
  },
  {
   "cell_type": "code",
   "execution_count": 29,
   "id": "9d832b43",
   "metadata": {},
   "outputs": [
    {
     "data": {
      "text/plain": [
       "array([[9, 9, 1, 2],\n",
       "       [3, 8, 9, 8],\n",
       "       [5, 6, 7, 5]])"
      ]
     },
     "execution_count": 29,
     "metadata": {},
     "output_type": "execute_result"
    }
   ],
   "source": [
    "arr1 = np.random.randint(1, 10, (3,4))\n",
    "arr2 = np.random.randint(1, 10, (3, 4))\n",
    "arr1"
   ]
  },
  {
   "cell_type": "code",
   "execution_count": 30,
   "id": "f776be42",
   "metadata": {},
   "outputs": [
    {
     "data": {
      "text/plain": [
       "array([[7, 5, 8, 8],\n",
       "       [7, 2, 2, 8],\n",
       "       [5, 7, 2, 9]])"
      ]
     },
     "execution_count": 30,
     "metadata": {},
     "output_type": "execute_result"
    }
   ],
   "source": [
    "arr2"
   ]
  },
  {
   "cell_type": "code",
   "execution_count": 31,
   "id": "6cc16c3b",
   "metadata": {},
   "outputs": [
    {
     "data": {
      "text/plain": [
       "array([[16, 14,  9, 10],\n",
       "       [10, 10, 11, 16],\n",
       "       [10, 13,  9, 14]])"
      ]
     },
     "execution_count": 31,
     "metadata": {},
     "output_type": "execute_result"
    }
   ],
   "source": [
    "arr1 + arr2"
   ]
  },
  {
   "cell_type": "code",
   "execution_count": 32,
   "id": "da782646",
   "metadata": {},
   "outputs": [
    {
     "data": {
      "text/plain": [
       "array([[63, 45,  8, 16],\n",
       "       [21, 16, 18, 64],\n",
       "       [25, 42, 14, 45]])"
      ]
     },
     "execution_count": 32,
     "metadata": {},
     "output_type": "execute_result"
    }
   ],
   "source": [
    "arr1*arr2"
   ]
  },
  {
   "cell_type": "code",
   "execution_count": 33,
   "id": "62e15265",
   "metadata": {},
   "outputs": [
    {
     "data": {
      "text/plain": [
       "array([[ 2,  4, -7, -6],\n",
       "       [-4,  6,  7,  0],\n",
       "       [ 0, -1,  5, -4]])"
      ]
     },
     "execution_count": 33,
     "metadata": {},
     "output_type": "execute_result"
    }
   ],
   "source": [
    "arr1-arr2"
   ]
  },
  {
   "cell_type": "code",
   "execution_count": 34,
   "id": "b1e37dea",
   "metadata": {},
   "outputs": [
    {
     "data": {
      "text/plain": [
       "array([[1.28571429, 1.8       , 0.125     , 0.25      ],\n",
       "       [0.42857143, 4.        , 4.5       , 1.        ],\n",
       "       [1.        , 0.85714286, 3.5       , 0.55555556]])"
      ]
     },
     "execution_count": 34,
     "metadata": {},
     "output_type": "execute_result"
    }
   ],
   "source": [
    "arr1/arr2"
   ]
  },
  {
   "cell_type": "code",
   "execution_count": 35,
   "id": "8c8f7ab0",
   "metadata": {},
   "outputs": [
    {
     "data": {
      "text/plain": [
       "array([[ 4782969,    59049,        1,      256],\n",
       "       [    2187,       64,       81, 16777216],\n",
       "       [    3125,   279936,       49,  1953125]])"
      ]
     },
     "execution_count": 35,
     "metadata": {},
     "output_type": "execute_result"
    }
   ],
   "source": [
    "arr1 ** arr2"
   ]
  },
  {
   "cell_type": "code",
   "execution_count": 36,
   "id": "6fdd6130",
   "metadata": {},
   "outputs": [
    {
     "data": {
      "text/plain": [
       "array([[ True,  True, False, False],\n",
       "       [False,  True,  True, False],\n",
       "       [False, False,  True, False]])"
      ]
     },
     "execution_count": 36,
     "metadata": {},
     "output_type": "execute_result"
    }
   ],
   "source": [
    "arr1 > arr2"
   ]
  },
  {
   "cell_type": "code",
   "execution_count": 38,
   "id": "e2e4f5c6",
   "metadata": {},
   "outputs": [
    {
     "data": {
      "text/plain": [
       "array([[-10, -10,  -2,  -3],\n",
       "       [ -4,  -9, -10,  -9],\n",
       "       [ -6,  -7,  -8,  -6]])"
      ]
     },
     "execution_count": 38,
     "metadata": {},
     "output_type": "execute_result"
    }
   ],
   "source": [
    "~arr1  ### bitwise negation operator"
   ]
  },
  {
   "cell_type": "code",
   "execution_count": 39,
   "id": "191aabeb",
   "metadata": {},
   "outputs": [
    {
     "data": {
      "text/plain": [
       "array([[9, 9, 1, 2],\n",
       "       [3, 8, 9, 8],\n",
       "       [5, 6, 7, 5]])"
      ]
     },
     "execution_count": 39,
     "metadata": {},
     "output_type": "execute_result"
    }
   ],
   "source": [
    "arr1"
   ]
  },
  {
   "cell_type": "code",
   "execution_count": 40,
   "id": "800c7bfe",
   "metadata": {},
   "outputs": [
    {
     "data": {
      "text/plain": [
       "array([[7, 5, 8, 8],\n",
       "       [7, 2, 2, 8],\n",
       "       [5, 7, 2, 9]])"
      ]
     },
     "execution_count": 40,
     "metadata": {},
     "output_type": "execute_result"
    }
   ],
   "source": [
    "arr2"
   ]
  },
  {
   "cell_type": "code",
   "execution_count": 41,
   "id": "d8af8039",
   "metadata": {},
   "outputs": [
    {
     "data": {
      "text/plain": [
       "array([[ 4782969,    59049,        1,      256],\n",
       "       [    2187,       64,       81, 16777216],\n",
       "       [    3125,   279936,       49,  1953125]])"
      ]
     },
     "execution_count": 41,
     "metadata": {},
     "output_type": "execute_result"
    }
   ],
   "source": [
    "arr1**arr2"
   ]
  },
  {
   "cell_type": "markdown",
   "id": "77dc7f6c",
   "metadata": {},
   "source": [
    "#### Numpy string function"
   ]
  },
  {
   "cell_type": "code",
   "execution_count": 42,
   "id": "cea0ad74",
   "metadata": {},
   "outputs": [
    {
     "data": {
      "text/plain": [
       "array(['pw', 'skills'], dtype='<U6')"
      ]
     },
     "execution_count": 42,
     "metadata": {},
     "output_type": "execute_result"
    }
   ],
   "source": [
    "arr = np.array([\"pw\", \"skills\"])\n",
    "arr"
   ]
  },
  {
   "cell_type": "code",
   "execution_count": 44,
   "id": "5d3d3123",
   "metadata": {},
   "outputs": [
    {
     "data": {
      "text/plain": [
       "array(['PW', 'SKILLS'], dtype='<U6')"
      ]
     },
     "execution_count": 44,
     "metadata": {},
     "output_type": "execute_result"
    }
   ],
   "source": [
    "np.char.upper(arr)  ### returns array with all letters \n",
    " ### to uppercase"
   ]
  },
  {
   "cell_type": "code",
   "execution_count": 46,
   "id": "f4719ea9",
   "metadata": {},
   "outputs": [
    {
     "data": {
      "text/plain": [
       "array(['AJAY'], dtype='<U4')"
      ]
     },
     "execution_count": 46,
     "metadata": {},
     "output_type": "execute_result"
    }
   ],
   "source": [
    "np.char.upper(np.array([\"ajay\"]))"
   ]
  },
  {
   "cell_type": "code",
   "execution_count": 47,
   "id": "60cbb2a4",
   "metadata": {},
   "outputs": [
    {
     "data": {
      "text/plain": [
       "array(['Pw', 'Skills'], dtype='<U6')"
      ]
     },
     "execution_count": 47,
     "metadata": {},
     "output_type": "execute_result"
    }
   ],
   "source": [
    "np.char.capitalize(arr)"
   ]
  },
  {
   "cell_type": "code",
   "execution_count": 48,
   "id": "cb776a1a",
   "metadata": {},
   "outputs": [],
   "source": [
    "### similar types of opeerations of string in python can\n",
    "### be done here using char module"
   ]
  },
  {
   "cell_type": "code",
   "execution_count": 49,
   "id": "6c61e23b",
   "metadata": {},
   "outputs": [
    {
     "data": {
      "text/plain": [
       "array(['Pw', 'Skills'], dtype='<U6')"
      ]
     },
     "execution_count": 49,
     "metadata": {},
     "output_type": "execute_result"
    }
   ],
   "source": [
    "np.char.title(arr)"
   ]
  },
  {
   "cell_type": "markdown",
   "id": "e6648638",
   "metadata": {},
   "source": [
    "#### Mathematical functions"
   ]
  },
  {
   "cell_type": "code",
   "execution_count": 50,
   "id": "56a1e738",
   "metadata": {},
   "outputs": [
    {
     "data": {
      "text/plain": [
       "array([[9, 9, 1, 2],\n",
       "       [3, 8, 9, 8],\n",
       "       [5, 6, 7, 5]])"
      ]
     },
     "execution_count": 50,
     "metadata": {},
     "output_type": "execute_result"
    }
   ],
   "source": [
    "arr1"
   ]
  },
  {
   "cell_type": "code",
   "execution_count": 51,
   "id": "d28b4fed",
   "metadata": {},
   "outputs": [
    {
     "data": {
      "text/plain": [
       "array([[ 0.41211849,  0.41211849,  0.84147098,  0.90929743],\n",
       "       [ 0.14112001,  0.98935825,  0.41211849,  0.98935825],\n",
       "       [-0.95892427, -0.2794155 ,  0.6569866 , -0.95892427]])"
      ]
     },
     "execution_count": 51,
     "metadata": {},
     "output_type": "execute_result"
    }
   ],
   "source": [
    "np.sin(arr1)"
   ]
  },
  {
   "cell_type": "code",
   "execution_count": 52,
   "id": "d667b5de",
   "metadata": {},
   "outputs": [
    {
     "data": {
      "text/plain": [
       "array([[-0.91113026, -0.91113026,  0.54030231, -0.41614684],\n",
       "       [-0.9899925 , -0.14550003, -0.91113026, -0.14550003],\n",
       "       [ 0.28366219,  0.96017029,  0.75390225,  0.28366219]])"
      ]
     },
     "execution_count": 52,
     "metadata": {},
     "output_type": "execute_result"
    }
   ],
   "source": [
    "np.cos(arr1)"
   ]
  },
  {
   "cell_type": "code",
   "execution_count": 53,
   "id": "ace10592",
   "metadata": {},
   "outputs": [
    {
     "data": {
      "text/plain": [
       "array([[-0.45231566, -0.45231566,  1.55740772, -2.18503986],\n",
       "       [-0.14254654, -6.79971146, -0.45231566, -6.79971146],\n",
       "       [-3.38051501, -0.29100619,  0.87144798, -3.38051501]])"
      ]
     },
     "execution_count": 53,
     "metadata": {},
     "output_type": "execute_result"
    }
   ],
   "source": [
    "np.tan(arr1)"
   ]
  },
  {
   "cell_type": "code",
   "execution_count": 54,
   "id": "82087616",
   "metadata": {},
   "outputs": [
    {
     "data": {
      "text/plain": [
       "array([[0.95424251, 0.95424251, 0.        , 0.30103   ],\n",
       "       [0.47712125, 0.90308999, 0.95424251, 0.90308999],\n",
       "       [0.69897   , 0.77815125, 0.84509804, 0.69897   ]])"
      ]
     },
     "execution_count": 54,
     "metadata": {},
     "output_type": "execute_result"
    }
   ],
   "source": [
    "np.log10(arr1)"
   ]
  },
  {
   "cell_type": "code",
   "execution_count": 55,
   "id": "ac938fde",
   "metadata": {},
   "outputs": [
    {
     "data": {
      "text/plain": [
       "array([[8.10308393e+03, 8.10308393e+03, 2.71828183e+00, 7.38905610e+00],\n",
       "       [2.00855369e+01, 2.98095799e+03, 8.10308393e+03, 2.98095799e+03],\n",
       "       [1.48413159e+02, 4.03428793e+02, 1.09663316e+03, 1.48413159e+02]])"
      ]
     },
     "execution_count": 55,
     "metadata": {},
     "output_type": "execute_result"
    }
   ],
   "source": [
    "np.exp(arr1)"
   ]
  },
  {
   "cell_type": "code",
   "execution_count": 56,
   "id": "c9d2023b",
   "metadata": {},
   "outputs": [
    {
     "data": {
      "text/plain": [
       "array([[81, 81,  1,  4],\n",
       "       [ 9, 64, 81, 64],\n",
       "       [25, 36, 49, 25]], dtype=int32)"
      ]
     },
     "execution_count": 56,
     "metadata": {},
     "output_type": "execute_result"
    }
   ],
   "source": [
    "np.power(arr1, 2)"
   ]
  },
  {
   "cell_type": "code",
   "execution_count": 57,
   "id": "35ead925",
   "metadata": {},
   "outputs": [
    {
     "data": {
      "text/plain": [
       "6.0"
      ]
     },
     "execution_count": 57,
     "metadata": {},
     "output_type": "execute_result"
    }
   ],
   "source": [
    "np.mean(arr1)"
   ]
  },
  {
   "cell_type": "code",
   "execution_count": 58,
   "id": "69b0410f",
   "metadata": {},
   "outputs": [
    {
     "data": {
      "text/plain": [
       "9"
      ]
     },
     "execution_count": 58,
     "metadata": {},
     "output_type": "execute_result"
    }
   ],
   "source": [
    "np.max(arr1)"
   ]
  },
  {
   "cell_type": "code",
   "execution_count": 59,
   "id": "e79a4c7e",
   "metadata": {},
   "outputs": [
    {
     "data": {
      "text/plain": [
       "2.70801280154532"
      ]
     },
     "execution_count": 59,
     "metadata": {},
     "output_type": "execute_result"
    }
   ],
   "source": [
    "np.std(arr1)"
   ]
  },
  {
   "cell_type": "code",
   "execution_count": 61,
   "id": "469ec193",
   "metadata": {},
   "outputs": [
    {
     "data": {
      "text/plain": [
       "6.5"
      ]
     },
     "execution_count": 61,
     "metadata": {},
     "output_type": "execute_result"
    }
   ],
   "source": [
    "np.median(arr1)"
   ]
  },
  {
   "cell_type": "code",
   "execution_count": 65,
   "id": "e4714119",
   "metadata": {},
   "outputs": [
    {
     "data": {
      "text/plain": [
       "array([[ 2,  4, -7, -6],\n",
       "       [-4,  6,  7,  0],\n",
       "       [ 0, -1,  5, -4]])"
      ]
     },
     "execution_count": 65,
     "metadata": {},
     "output_type": "execute_result"
    }
   ],
   "source": [
    "np.subtract(arr1, arr2)"
   ]
  },
  {
   "cell_type": "code",
   "execution_count": 67,
   "id": "74331c6b",
   "metadata": {},
   "outputs": [
    {
     "data": {
      "text/plain": [
       "array([[63, 45,  8, 16],\n",
       "       [21, 16, 18, 64],\n",
       "       [25, 42, 14, 45]])"
      ]
     },
     "execution_count": 67,
     "metadata": {},
     "output_type": "execute_result"
    }
   ],
   "source": [
    "np.multiply(arr1, arr2)"
   ]
  },
  {
   "cell_type": "code",
   "execution_count": 70,
   "id": "453a6057",
   "metadata": {},
   "outputs": [
    {
     "data": {
      "text/plain": [
       "array([[2, 4, 1, 2],\n",
       "       [3, 0, 1, 0],\n",
       "       [0, 6, 1, 5]])"
      ]
     },
     "execution_count": 70,
     "metadata": {},
     "output_type": "execute_result"
    }
   ],
   "source": [
    "# Returns the element-wise remainder of division.\n",
    "np.mod(arr1, arr2)"
   ]
  },
  {
   "cell_type": "code",
   "execution_count": 71,
   "id": "0278e7bb",
   "metadata": {},
   "outputs": [
    {
     "data": {
      "text/plain": [
       "array([[3.        , 3.        , 1.        , 1.41421356],\n",
       "       [1.73205081, 2.82842712, 3.        , 2.82842712],\n",
       "       [2.23606798, 2.44948974, 2.64575131, 2.23606798]])"
      ]
     },
     "execution_count": 71,
     "metadata": {},
     "output_type": "execute_result"
    }
   ],
   "source": [
    "np.sqrt(arr1)"
   ]
  },
  {
   "cell_type": "code",
   "execution_count": 72,
   "id": "dfd3ef17",
   "metadata": {},
   "outputs": [
    {
     "data": {
      "text/plain": [
       "7.333333333333333"
      ]
     },
     "execution_count": 72,
     "metadata": {},
     "output_type": "execute_result"
    }
   ],
   "source": [
    "np.var(arr1)"
   ]
  },
  {
   "cell_type": "markdown",
   "id": "c5dd4187",
   "metadata": {},
   "source": [
    "### Sorting and searching using numpy"
   ]
  },
  {
   "cell_type": "code",
   "execution_count": 73,
   "id": "96435c64",
   "metadata": {},
   "outputs": [
    {
     "data": {
      "text/plain": [
       "array([1, 5, 6, 7])"
      ]
     },
     "execution_count": 73,
     "metadata": {},
     "output_type": "execute_result"
    }
   ],
   "source": [
    "arr = np.array([5,6,7,1])\n",
    "np.sort(arr)"
   ]
  },
  {
   "cell_type": "code",
   "execution_count": 75,
   "id": "358061ee",
   "metadata": {},
   "outputs": [
    {
     "data": {
      "text/plain": [
       "0"
      ]
     },
     "execution_count": 75,
     "metadata": {},
     "output_type": "execute_result"
    }
   ],
   "source": [
    "#Find indices where elements should be inserted to maintain order.\n",
    "\n",
    "# Find the indices into a sorted array `a` such that, if the\n",
    "# corresponding elements in `v` were inserted before the indices, the\n",
    "# order of `a` would be preserved.\n",
    "\n",
    "\n",
    "np.searchsorted(arr, 3)"
   ]
  },
  {
   "cell_type": "code",
   "execution_count": 76,
   "id": "05d1303a",
   "metadata": {},
   "outputs": [
    {
     "data": {
      "text/plain": [
       "4"
      ]
     },
     "execution_count": 76,
     "metadata": {},
     "output_type": "execute_result"
    }
   ],
   "source": [
    "arr1 = np.array([0,1,2,3,0,4])\n",
    "np.count_nonzero(arr1)"
   ]
  },
  {
   "cell_type": "code",
   "execution_count": 77,
   "id": "2324681d",
   "metadata": {},
   "outputs": [
    {
     "data": {
      "text/plain": [
       "array([False,  True,  True,  True, False,  True])"
      ]
     },
     "execution_count": 77,
     "metadata": {},
     "output_type": "execute_result"
    }
   ],
   "source": [
    "arr1 > 0"
   ]
  },
  {
   "cell_type": "code",
   "execution_count": 78,
   "id": "93b355fb",
   "metadata": {},
   "outputs": [
    {
     "data": {
      "text/plain": [
       "(array([1, 2, 3, 5], dtype=int64),)"
      ]
     },
     "execution_count": 78,
     "metadata": {},
     "output_type": "execute_result"
    }
   ],
   "source": [
    "np.where(arr1 >0)"
   ]
  },
  {
   "cell_type": "code",
   "execution_count": 80,
   "id": "97d977aa",
   "metadata": {},
   "outputs": [
    {
     "data": {
      "text/plain": [
       "array([1, 2, 3, 4])"
      ]
     },
     "execution_count": 80,
     "metadata": {},
     "output_type": "execute_result"
    }
   ],
   "source": [
    "np.extract(arr1 > 0, arr1)"
   ]
  },
  {
   "cell_type": "code",
   "execution_count": 81,
   "id": "f5744927",
   "metadata": {},
   "outputs": [
    {
     "data": {
      "text/plain": [
       "array([       0, 16777216, 33554432, 50331648,        0, 67108864])"
      ]
     },
     "execution_count": 81,
     "metadata": {},
     "output_type": "execute_result"
    }
   ],
   "source": [
    "arr1.byteswap()"
   ]
  },
  {
   "cell_type": "markdown",
   "id": "67cda692",
   "metadata": {},
   "source": [
    "### System of equantions using numpy"
   ]
  },
  {
   "cell_type": "code",
   "execution_count": 82,
   "id": "7f93a836",
   "metadata": {},
   "outputs": [],
   "source": [
    "import numpy.matlib as nm"
   ]
  },
  {
   "cell_type": "code",
   "execution_count": 83,
   "id": "f9c560d7",
   "metadata": {},
   "outputs": [
    {
     "data": {
      "text/plain": [
       "matrix([[0., 0., 0., 0., 0.]])"
      ]
     },
     "execution_count": 83,
     "metadata": {},
     "output_type": "execute_result"
    }
   ],
   "source": [
    "nm.zeros(5)"
   ]
  },
  {
   "cell_type": "code",
   "execution_count": 85,
   "id": "1905c23f",
   "metadata": {},
   "outputs": [
    {
     "data": {
      "text/plain": [
       "matrix([[1, 1, 1, 1],\n",
       "        [1, 1, 1, 1],\n",
       "        [1, 1, 1, 1]])"
      ]
     },
     "execution_count": 85,
     "metadata": {},
     "output_type": "execute_result"
    }
   ],
   "source": [
    "nm.ones((3,4), dtype= int)"
   ]
  },
  {
   "cell_type": "markdown",
   "id": "7de551d2",
   "metadata": {},
   "source": [
    "### Numpy linear algebra"
   ]
  },
  {
   "cell_type": "code",
   "execution_count": 95,
   "id": "8a3a9a62",
   "metadata": {},
   "outputs": [],
   "source": [
    "arr1 = np.random.randint(1,10,(3,3))\n",
    "arr2 = np.random.randint(1,10,(3,3))"
   ]
  },
  {
   "cell_type": "code",
   "execution_count": 96,
   "id": "b386edec",
   "metadata": {},
   "outputs": [
    {
     "data": {
      "text/plain": [
       "array([[1, 6, 9],\n",
       "       [9, 7, 9],\n",
       "       [3, 3, 5]])"
      ]
     },
     "execution_count": 96,
     "metadata": {},
     "output_type": "execute_result"
    }
   ],
   "source": [
    "arr1"
   ]
  },
  {
   "cell_type": "code",
   "execution_count": 97,
   "id": "41ef0acf",
   "metadata": {},
   "outputs": [
    {
     "data": {
      "text/plain": [
       "array([[1, 7, 1],\n",
       "       [1, 9, 5],\n",
       "       [5, 5, 3]])"
      ]
     },
     "execution_count": 97,
     "metadata": {},
     "output_type": "execute_result"
    }
   ],
   "source": [
    "arr2"
   ]
  },
  {
   "cell_type": "code",
   "execution_count": 98,
   "id": "5b41efbf",
   "metadata": {},
   "outputs": [
    {
     "data": {
      "text/plain": [
       "array([[ 52, 106,  58],\n",
       "       [ 61, 171,  71],\n",
       "       [ 31,  73,  33]])"
      ]
     },
     "execution_count": 98,
     "metadata": {},
     "output_type": "execute_result"
    }
   ],
   "source": [
    "arr1 @ arr2   ### dot product"
   ]
  },
  {
   "cell_type": "code",
   "execution_count": 104,
   "id": "56ea3196",
   "metadata": {},
   "outputs": [
    {
     "data": {
      "text/plain": [
       "array([1.11304348, 2.85217391, 2.0173913 ])"
      ]
     },
     "execution_count": 104,
     "metadata": {},
     "output_type": "execute_result"
    }
   ],
   "source": [
    "a = np.array([[7,5,-3], [2,-5,2], [5,3,-7]])\n",
    "b = np.array([16,-8,0])\n",
    "np.linalg.solve(a, b)"
   ]
  },
  {
   "cell_type": "code",
   "execution_count": 105,
   "id": "907fa28f",
   "metadata": {},
   "outputs": [
    {
     "data": {
      "text/plain": [
       "-45.999999999999986"
      ]
     },
     "execution_count": 105,
     "metadata": {},
     "output_type": "execute_result"
    }
   ],
   "source": [
    "np.linalg.det(arr1)"
   ]
  },
  {
   "cell_type": "code",
   "execution_count": 106,
   "id": "a4fddbb6",
   "metadata": {},
   "outputs": [
    {
     "data": {
      "text/plain": [
       "115.99999999999999"
      ]
     },
     "execution_count": 106,
     "metadata": {},
     "output_type": "execute_result"
    }
   ],
   "source": [
    "np.linalg.det(arr2)"
   ]
  },
  {
   "cell_type": "code",
   "execution_count": 107,
   "id": "e12ab9d3",
   "metadata": {},
   "outputs": [
    {
     "data": {
      "text/plain": [
       "array([[-0.17391304,  0.06521739,  0.19565217],\n",
       "       [ 0.39130435,  0.47826087, -1.56521739],\n",
       "       [-0.13043478, -0.32608696,  1.02173913]])"
      ]
     },
     "execution_count": 107,
     "metadata": {},
     "output_type": "execute_result"
    }
   ],
   "source": [
    "np.linalg.inv(arr1)"
   ]
  },
  {
   "cell_type": "code",
   "execution_count": 109,
   "id": "4c9a6285",
   "metadata": {},
   "outputs": [],
   "source": [
    "## np.linalg.cholesky()  ### gives cholesky decompositon"
   ]
  },
  {
   "cell_type": "code",
   "execution_count": 110,
   "id": "f5937fc1",
   "metadata": {},
   "outputs": [
    {
     "data": {
      "text/plain": [
       "37.3979424395434"
      ]
     },
     "execution_count": 110,
     "metadata": {},
     "output_type": "execute_result"
    }
   ],
   "source": [
    "np.linalg.cond(arr1)"
   ]
  },
  {
   "cell_type": "code",
   "execution_count": 112,
   "id": "e12a84a3",
   "metadata": {},
   "outputs": [
    {
     "data": {
      "text/plain": [
       "(array([-0.244619  +2.92226102j, -0.244619  -2.92226102j,\n",
       "        13.48923801+0.j        ]),\n",
       " array([[-0.14476267+0.58191856j, -0.14476267-0.58191856j,\n",
       "         -0.44171282+0.j        ],\n",
       "        [-0.3193678 -0.16390017j, -0.3193678 +0.16390017j,\n",
       "         -0.70968691+0.j        ],\n",
       "        [ 0.71523108+0.j        ,  0.71523108-0.j        ,\n",
       "         -0.54884813+0.j        ]]))"
      ]
     },
     "execution_count": 112,
     "metadata": {},
     "output_type": "execute_result"
    }
   ],
   "source": [
    "np.linalg.eig(arr2)"
   ]
  },
  {
   "cell_type": "code",
   "execution_count": 113,
   "id": "614a0b17",
   "metadata": {},
   "outputs": [
    {
     "data": {
      "text/plain": [
       "(array([-5.53487797,  3.32629957, 15.2085784 ]),\n",
       " array([[ 0.81820202,  0.16456135,  0.55087659],\n",
       "        [-0.57059051,  0.34993736,  0.74294705],\n",
       "        [-0.07051193, -0.92220573,  0.3802166 ]]))"
      ]
     },
     "execution_count": 113,
     "metadata": {},
     "output_type": "execute_result"
    }
   ],
   "source": [
    "np.linalg.eigh(arr1)"
   ]
  },
  {
   "cell_type": "code",
   "execution_count": null,
   "id": "765c34d4",
   "metadata": {},
   "outputs": [],
   "source": []
  }
 ],
 "metadata": {
  "kernelspec": {
   "display_name": "Python 3 (ipykernel)",
   "language": "python",
   "name": "python3"
  },
  "language_info": {
   "codemirror_mode": {
    "name": "ipython",
    "version": 3
   },
   "file_extension": ".py",
   "mimetype": "text/x-python",
   "name": "python",
   "nbconvert_exporter": "python",
   "pygments_lexer": "ipython3",
   "version": "3.11.4"
  }
 },
 "nbformat": 4,
 "nbformat_minor": 5
}
