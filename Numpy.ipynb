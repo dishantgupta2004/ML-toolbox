{
 "cells": [
  {
   "cell_type": "code",
   "execution_count": 1,
   "id": "571d05ee",
   "metadata": {},
   "outputs": [],
   "source": [
    "## generate the value from 1 to 5 and give me 20 values from 1 to 5\n",
    "import numpy as np"
   ]
  },
  {
   "cell_type": "code",
   "execution_count": 2,
   "id": "ce3acdc4",
   "metadata": {},
   "outputs": [
    {
     "data": {
      "text/plain": [
       "array([1.        , 1.15789474, 1.31578947, 1.47368421, 1.63157895,\n",
       "       1.78947368, 1.94736842, 2.10526316, 2.26315789, 2.42105263,\n",
       "       2.57894737, 2.73684211, 2.89473684, 3.05263158, 3.21052632,\n",
       "       3.36842105, 3.52631579, 3.68421053, 3.84210526, 4.        ])"
      ]
     },
     "execution_count": 2,
     "metadata": {},
     "output_type": "execute_result"
    }
   ],
   "source": [
    "np.linspace(1, 4, 20)"
   ]
  },
  {
   "cell_type": "code",
   "execution_count": 3,
   "id": "318e6a84",
   "metadata": {},
   "outputs": [
    {
     "data": {
      "text/plain": [
       "array([ 2.        ,  2.72158   ,  3.70349885,  5.0396842 ,  6.85795186,\n",
       "        9.33223232, 12.69920842, 17.28095582, 23.51575188, 32.        ])"
      ]
     },
     "execution_count": 3,
     "metadata": {},
     "output_type": "execute_result"
    }
   ],
   "source": [
    "np.logspace(1,5,10, base = 2)   ### give 10 values from 1 to 5 with log of base 2"
   ]
  },
  {
   "cell_type": "code",
   "execution_count": 4,
   "id": "98604f06",
   "metadata": {},
   "outputs": [
    {
     "data": {
      "text/plain": [
       "array(3)"
      ]
     },
     "execution_count": 4,
     "metadata": {},
     "output_type": "execute_result"
    }
   ],
   "source": [
    "np.asanyarray(3)"
   ]
  },
  {
   "cell_type": "code",
   "execution_count": 5,
   "id": "7ceea4ec",
   "metadata": {},
   "outputs": [
    {
     "name": "stdout",
     "output_type": "stream",
     "text": [
      "[[0. 0.]\n",
      " [0. 0.]]\n"
     ]
    }
   ],
   "source": [
    "arr1 = np.zeros((2,2))\n",
    "arr1.shape\n",
    "print(arr1)"
   ]
  },
  {
   "cell_type": "code",
   "execution_count": 6,
   "id": "93455a3f",
   "metadata": {},
   "outputs": [
    {
     "data": {
      "text/plain": [
       "(3, 4)"
      ]
     },
     "execution_count": 6,
     "metadata": {},
     "output_type": "execute_result"
    }
   ],
   "source": [
    "arr2 = np.zeros((3,4))   ### create array of zeros of 3X4\n",
    "arr2.shape"
   ]
  },
  {
   "cell_type": "code",
   "execution_count": 7,
   "id": "6492cd38",
   "metadata": {},
   "outputs": [
    {
     "data": {
      "text/plain": [
       "array([[[0., 0., 0., 0., 0.],\n",
       "        [0., 0., 0., 0., 0.],\n",
       "        [0., 0., 0., 0., 0.],\n",
       "        [0., 0., 0., 0., 0.]],\n",
       "\n",
       "       [[0., 0., 0., 0., 0.],\n",
       "        [0., 0., 0., 0., 0.],\n",
       "        [0., 0., 0., 0., 0.],\n",
       "        [0., 0., 0., 0., 0.]],\n",
       "\n",
       "       [[0., 0., 0., 0., 0.],\n",
       "        [0., 0., 0., 0., 0.],\n",
       "        [0., 0., 0., 0., 0.],\n",
       "        [0., 0., 0., 0., 0.]]])"
      ]
     },
     "execution_count": 7,
     "metadata": {},
     "output_type": "execute_result"
    }
   ],
   "source": [
    "np.zeros((3,4,5))"
   ]
  },
  {
   "cell_type": "code",
   "execution_count": 8,
   "id": "30a488b9",
   "metadata": {},
   "outputs": [
    {
     "data": {
      "text/plain": [
       "'1.23.5'"
      ]
     },
     "execution_count": 8,
     "metadata": {},
     "output_type": "execute_result"
    }
   ],
   "source": [
    "np.__version__"
   ]
  },
  {
   "cell_type": "code",
   "execution_count": 9,
   "id": "9e66641f",
   "metadata": {},
   "outputs": [
    {
     "data": {
      "text/plain": [
       "'\\nNumPy\\n=====\\n\\nProvides\\n  1. An array object of arbitrary homogeneous items\\n  2. Fast mathematical operations over arrays\\n  3. Linear Algebra, Fourier Transforms, Random Number Generation\\n\\nHow to use the documentation\\n----------------------------\\nDocumentation is available in two forms: docstrings provided\\nwith the code, and a loose standing reference guide, available from\\n`the NumPy homepage <https://numpy.org>`_.\\n\\nWe recommend exploring the docstrings using\\n`IPython <https://ipython.org>`_, an advanced Python shell with\\nTAB-completion and introspection capabilities.  See below for further\\ninstructions.\\n\\nThe docstring examples assume that `numpy` has been imported as `np`::\\n\\n  >>> import numpy as np\\n\\nCode snippets are indicated by three greater-than signs::\\n\\n  >>> x = 42\\n  >>> x = x + 1\\n\\nUse the built-in ``help`` function to view a function\\'s docstring::\\n\\n  >>> help(np.sort)\\n  ... # doctest: +SKIP\\n\\nFor some objects, ``np.info(obj)`` may provide additional help.  This is\\nparticularly true if you see the line \"Help on ufunc object:\" at the top\\nof the help() page.  Ufuncs are implemented in C, not Python, for speed.\\nThe native Python help() does not know how to view their help, but our\\nnp.info() function does.\\n\\nTo search for documents containing a keyword, do::\\n\\n  >>> np.lookfor(\\'keyword\\')\\n  ... # doctest: +SKIP\\n\\nGeneral-purpose documents like a glossary and help on the basic concepts\\nof numpy are available under the ``doc`` sub-module::\\n\\n  >>> from numpy import doc\\n  >>> help(doc)\\n  ... # doctest: +SKIP\\n\\nAvailable subpackages\\n---------------------\\nlib\\n    Basic functions used by several sub-packages.\\nrandom\\n    Core Random Tools\\nlinalg\\n    Core Linear Algebra Tools\\nfft\\n    Core FFT routines\\npolynomial\\n    Polynomial tools\\ntesting\\n    NumPy testing tools\\ndistutils\\n    Enhancements to distutils with support for\\n    Fortran compilers support and more.\\n\\nUtilities\\n---------\\ntest\\n    Run numpy unittests\\nshow_config\\n    Show numpy build configuration\\ndual\\n    Overwrite certain functions with high-performance SciPy tools.\\n    Note: `numpy.dual` is deprecated.  Use the functions from NumPy or Scipy\\n    directly instead of importing them from `numpy.dual`.\\nmatlib\\n    Make everything matrices.\\n__version__\\n    NumPy version string\\n\\nViewing documentation using IPython\\n-----------------------------------\\nStart IPython with the NumPy profile (``ipython -p numpy``), which will\\nimport `numpy` under the alias `np`.  Then, use the ``cpaste`` command to\\npaste examples into the shell.  To see which functions are available in\\n`numpy`, type ``np.<TAB>`` (where ``<TAB>`` refers to the TAB key), or use\\n``np.*cos*?<ENTER>`` (where ``<ENTER>`` refers to the ENTER key) to narrow\\ndown the list.  To view the docstring for a function, use\\n``np.cos?<ENTER>`` (to view the docstring) and ``np.cos??<ENTER>`` (to view\\nthe source code).\\n\\nCopies vs. in-place operation\\n-----------------------------\\nMost of the functions in `numpy` return a copy of the array argument\\n(e.g., `np.sort`).  In-place versions of these functions are often\\navailable as array methods, i.e. ``x = np.array([1,2,3]); x.sort()``.\\nExceptions to this rule are documented.\\n\\n'"
      ]
     },
     "execution_count": 9,
     "metadata": {},
     "output_type": "execute_result"
    }
   ],
   "source": [
    "np.__doc__"
   ]
  },
  {
   "cell_type": "code",
   "execution_count": 10,
   "id": "0c98bfef",
   "metadata": {},
   "outputs": [],
   "source": [
    "#print(np.__doc__)   ### provides all information regarding numpy"
   ]
  },
  {
   "cell_type": "code",
   "execution_count": 11,
   "id": "afa3683b",
   "metadata": {},
   "outputs": [
    {
     "data": {
      "text/plain": [
       "array([1, 2, 3, 4, 5])"
      ]
     },
     "execution_count": 11,
     "metadata": {},
     "output_type": "execute_result"
    }
   ],
   "source": [
    "l = [1,2,3,4,5]\n",
    "arr = np.array(l)\n",
    "arr"
   ]
  },
  {
   "cell_type": "code",
   "execution_count": 12,
   "id": "25661b12",
   "metadata": {},
   "outputs": [
    {
     "data": {
      "text/plain": [
       "numpy.ndarray"
      ]
     },
     "execution_count": 12,
     "metadata": {},
     "output_type": "execute_result"
    }
   ],
   "source": [
    "type(arr)"
   ]
  },
  {
   "cell_type": "code",
   "execution_count": 13,
   "id": "e59a56d7",
   "metadata": {},
   "outputs": [
    {
     "data": {
      "text/plain": [
       "1"
      ]
     },
     "execution_count": 13,
     "metadata": {},
     "output_type": "execute_result"
    }
   ],
   "source": [
    "arr.ndim  ## gives number of dimensions of array"
   ]
  },
  {
   "cell_type": "code",
   "execution_count": 14,
   "id": "bd147790",
   "metadata": {},
   "outputs": [],
   "source": [
    "arr1 = [[1,2,3], [4,5,6]]\n",
    "mat = np.matrix(arr1)    ### matrix is by default 2 d array thus if we give another\n",
    "                    ### dimensional array then it will show erroer."
   ]
  },
  {
   "cell_type": "code",
   "execution_count": 15,
   "id": "ed26a464",
   "metadata": {},
   "outputs": [
    {
     "data": {
      "text/plain": [
       "array([[1, 2],\n",
       "       [3, 4],\n",
       "       [5, 6]])"
      ]
     },
     "execution_count": 15,
     "metadata": {},
     "output_type": "execute_result"
    }
   ],
   "source": [
    "#### more ways to convert to array:-\n",
    "np.asarray([[1,2], [3,4], [5,6]])\n"
   ]
  },
  {
   "cell_type": "code",
   "execution_count": 16,
   "id": "c072c7a4",
   "metadata": {},
   "outputs": [
    {
     "data": {
      "text/plain": [
       "array([[1, 2],\n",
       "       [5, 6],\n",
       "       [8, 9]])"
      ]
     },
     "execution_count": 16,
     "metadata": {},
     "output_type": "execute_result"
    }
   ],
   "source": [
    "np.asanyarray([[1,2], [5,6], [8,9]])"
   ]
  },
  {
   "cell_type": "code",
   "execution_count": 17,
   "id": "81887ac0",
   "metadata": {},
   "outputs": [
    {
     "data": {
      "text/plain": [
       "matrix([[1, 2, 3],\n",
       "        [4, 5, 6]])"
      ]
     },
     "execution_count": 17,
     "metadata": {},
     "output_type": "execute_result"
    }
   ],
   "source": [
    "mat"
   ]
  },
  {
   "cell_type": "code",
   "execution_count": 18,
   "id": "9012b3c1",
   "metadata": {},
   "outputs": [
    {
     "name": "stdout",
     "output_type": "stream",
     "text": [
      "[1 2 3 4]\n",
      "[1 2 3 4]\n",
      "After changing the value in b:\n",
      "[1 2 3 4]\n",
      "[100   2   3   4]\n"
     ]
    }
   ],
   "source": [
    "### we can pass tuple, list, integer etc anything to array() fns it will \n",
    "### convert to array\n",
    "a = [1,2,3,4]\n",
    "b = a.copy()\n",
    "print(np.array(a))\n",
    "print(np.array(b))\n",
    "print(\"After changing the value in b:\")\n",
    "b[0] = 100\n",
    "print(np.array(a))\n",
    "print(np.array(b))"
   ]
  },
  {
   "cell_type": "code",
   "execution_count": 19,
   "id": "3c6f69e3",
   "metadata": {},
   "outputs": [],
   "source": [
    "#### difference between shallow copy and deep copy"
   ]
  },
  {
   "cell_type": "code",
   "execution_count": 20,
   "id": "51c8dba6",
   "metadata": {},
   "outputs": [
    {
     "data": {
      "text/plain": [
       "array([[0, 0, 0],\n",
       "       [0, 1, 2],\n",
       "       [0, 2, 4]])"
      ]
     },
     "execution_count": 20,
     "metadata": {},
     "output_type": "execute_result"
    }
   ],
   "source": [
    "#### There are multiple ways to generate array:- \n",
    "np.fromfunction(lambda i,j : i*j, (3,3), dtype= int)"
   ]
  },
  {
   "cell_type": "code",
   "execution_count": 21,
   "id": "20136591",
   "metadata": {},
   "outputs": [
    {
     "data": {
      "text/plain": [
       "5"
      ]
     },
     "execution_count": 21,
     "metadata": {},
     "output_type": "execute_result"
    }
   ],
   "source": [
    "arr.size  ## it tells no of elements in array"
   ]
  },
  {
   "cell_type": "code",
   "execution_count": 22,
   "id": "b95813de",
   "metadata": {},
   "outputs": [
    {
     "data": {
      "text/plain": [
       "array([ 0,  1,  4,  9, 16])"
      ]
     },
     "execution_count": 22,
     "metadata": {},
     "output_type": "execute_result"
    }
   ],
   "source": [
    "iterable = (i*i for i in range(5))\n",
    "np.fromiter(iterable, int)  ### creates a new 1d array from iterable object"
   ]
  },
  {
   "cell_type": "code",
   "execution_count": 23,
   "id": "606c5494",
   "metadata": {},
   "outputs": [
    {
     "name": "stderr",
     "output_type": "stream",
     "text": [
      "C:\\Users\\disha\\AppData\\Local\\Temp\\ipykernel_7232\\3223656957.py:1: DeprecationWarning: string or file could not be read to its end due to unmatched data; this will raise a ValueError in the future.\n",
      "  np.fromstring(\"suhani,ajay,anwesha\", sep = \" \")\n"
     ]
    },
    {
     "data": {
      "text/plain": [
       "array([], dtype=float64)"
      ]
     },
     "execution_count": 23,
     "metadata": {},
     "output_type": "execute_result"
    }
   ],
   "source": [
    "np.fromstring(\"suhani,ajay,anwesha\", sep = \" \")"
   ]
  },
  {
   "cell_type": "code",
   "execution_count": 24,
   "id": "695ec836",
   "metadata": {},
   "outputs": [
    {
     "data": {
      "text/plain": [
       "[0.1,\n",
       " 0.2,\n",
       " 0.30000000000000004,\n",
       " 0.4,\n",
       " 0.5,\n",
       " 0.6,\n",
       " 0.7000000000000001,\n",
       " 0.8,\n",
       " 0.9,\n",
       " 1.0,\n",
       " 1.1,\n",
       " 1.2000000000000002,\n",
       " 1.3000000000000003,\n",
       " 1.4000000000000001,\n",
       " 1.5000000000000002,\n",
       " 1.6,\n",
       " 1.7000000000000002,\n",
       " 1.8000000000000003,\n",
       " 1.9000000000000001,\n",
       " 2.0,\n",
       " 2.1,\n",
       " 2.2,\n",
       " 2.3000000000000003,\n",
       " 2.4000000000000004,\n",
       " 2.5000000000000004,\n",
       " 2.6,\n",
       " 2.7,\n",
       " 2.8000000000000003,\n",
       " 2.9000000000000004,\n",
       " 3.0000000000000004,\n",
       " 3.1,\n",
       " 3.2,\n",
       " 3.3000000000000003,\n",
       " 3.4000000000000004,\n",
       " 3.5000000000000004,\n",
       " 3.6,\n",
       " 3.7,\n",
       " 3.8000000000000003,\n",
       " 3.9000000000000004,\n",
       " 4.0,\n",
       " 4.1,\n",
       " 4.2,\n",
       " 4.3,\n",
       " 4.3999999999999995,\n",
       " 4.5,\n",
       " 4.6,\n",
       " 4.7,\n",
       " 4.8,\n",
       " 4.9,\n",
       " 5.0,\n",
       " 5.1,\n",
       " 5.2,\n",
       " 5.3,\n",
       " 5.4,\n",
       " 5.5,\n",
       " 5.6,\n",
       " 5.7,\n",
       " 5.8,\n",
       " 5.9,\n",
       " 6.0,\n",
       " 6.1,\n",
       " 6.2,\n",
       " 6.3,\n",
       " 6.4,\n",
       " 6.5,\n",
       " 6.6,\n",
       " 6.7,\n",
       " 6.8,\n",
       " 6.9,\n",
       " 7.0,\n",
       " 7.1,\n",
       " 7.2,\n",
       " 7.3,\n",
       " 7.4,\n",
       " 7.5,\n",
       " 7.6,\n",
       " 7.7,\n",
       " 7.8,\n",
       " 7.9,\n",
       " 8.0,\n",
       " 8.1,\n",
       " 8.2,\n",
       " 8.3,\n",
       " 8.4,\n",
       " 8.5,\n",
       " 8.6,\n",
       " 8.7,\n",
       " 8.8,\n",
       " 8.9,\n",
       " 9.0,\n",
       " 9.1,\n",
       " 9.2,\n",
       " 9.3,\n",
       " 9.4,\n",
       " 9.5,\n",
       " 9.6,\n",
       " 9.700000000000001,\n",
       " 9.8,\n",
       " 9.9,\n",
       " 10.0,\n",
       " 10.1]"
      ]
     },
     "execution_count": 24,
     "metadata": {},
     "output_type": "execute_result"
    }
   ],
   "source": [
    "list(np.arange(0.1, 10.2, 0.1))"
   ]
  },
  {
   "cell_type": "code",
   "execution_count": 25,
   "id": "24f4c617",
   "metadata": {},
   "outputs": [],
   "source": [
    "### Why numpy arrays are preferred than python lists?? ### interview question\n",
    "# For matrices, the dot product represents a more generalized operation. If A is an m×n matrix and B is an  n×p matrix, \n",
    "# the dot product (matrix multiplication) results in an m×p matrix. In NumPy, this can be computed using the np.dot function or\n",
    "# the @ operator for matrix multiplication.\n",
    "\n",
    "# For two vectors, A and B, with elements A[0], A[1], ..., A[n-1] and B[0], B[1], ..., B[n-1], the dot product (also known as \n",
    "# the inner product or scalar product) is calculated as follows:\n",
    "\n",
    "# dot product=A[0]×B[0]+A[1]×B[1]+…+A[n−1]×B[n−1]"
   ]
  },
  {
   "cell_type": "code",
   "execution_count": 26,
   "id": "a1c484e1",
   "metadata": {},
   "outputs": [
    {
     "name": "stdout",
     "output_type": "stream",
     "text": [
      "Matrix product using np.dot:\n",
      " [[19 22]\n",
      " [43 50]]\n",
      "Matrix product using @ operator:\n",
      " [[19 22]\n",
      " [43 50]]\n"
     ]
    }
   ],
   "source": [
    "import numpy as np\n",
    "\n",
    "# Example matrices\n",
    "A = np.array([[1, 2], [3, 4]])\n",
    "B = np.array([[5, 6], [7, 8]])\n",
    "\n",
    "# Using np.dot for matrix multiplication\n",
    "matrix_product = np.dot(A, B)\n",
    "print(\"Matrix product using np.dot:\\n\", matrix_product)\n",
    "\n",
    "# Using @ operator for matrix multiplication (Python 3.5 and later)\n",
    "matrix_product = A @ B\n",
    "print(\"Matrix product using @ operator:\\n\", matrix_product)\n"
   ]
  },
  {
   "cell_type": "code",
   "execution_count": 27,
   "id": "d1f71885",
   "metadata": {},
   "outputs": [
    {
     "name": "stdout",
     "output_type": "stream",
     "text": [
      "Time taken for vectorized calculation: 1.0492801666259766 milliseconds\n",
      "Time taken for calculation using a for loop: 331.5134048461914 milliseconds\n"
     ]
    }
   ],
   "source": [
    "import numpy as np\n",
    "import time\n",
    "\n",
    "# Generate two random NumPy arrays with one million elements each\n",
    "array1 = np.random.rand(1000000)\n",
    "array2 = np.random.rand(1000000)\n",
    "\n",
    "# Measure time for the vectorized version using np.dot\n",
    "start_time_vectorized = time.time()\n",
    "result_vectorized = np.dot(array1, array2)\n",
    "end_time_vectorized = time.time()\n",
    "\n",
    "# Print the time taken for the vectorized version\n",
    "print(\"Time taken for vectorized calculation: \" + str(1000 * (end_time_vectorized - start_time_vectorized)) + \" milliseconds\")\n",
    "\n",
    "# Reset result_vectorized to 0\n",
    "result_vectorized = 0\n",
    "\n",
    "# Measure time for the version using a for loop\n",
    "start_time_for_loop = time.time()\n",
    "for index in range(1000000):\n",
    "    result_vectorized += array1[index] * array2[index]\n",
    "end_time_for_loop = time.time()\n",
    "\n",
    "# Print the time taken for the for loop version\n",
    "print(\"Time taken for calculation using a for loop: \" + str(1000 * (end_time_for_loop - start_time_for_loop)) + \" milliseconds\")\n"
   ]
  },
  {
   "cell_type": "code",
   "execution_count": 28,
   "id": "ca67fb2e",
   "metadata": {},
   "outputs": [
    {
     "data": {
      "text/plain": [
       "array([[1, 2],\n",
       "       [5, 6]])"
      ]
     },
     "execution_count": 28,
     "metadata": {},
     "output_type": "execute_result"
    }
   ],
   "source": [
    "np.array(np.matrix([[1, 2], [5, 6]]))\n"
   ]
  },
  {
   "cell_type": "code",
   "execution_count": 29,
   "id": "8fa9b332",
   "metadata": {},
   "outputs": [],
   "source": [
    "arr = np.array([[1, 2, 3], [4, 5, 6]])\n"
   ]
  },
  {
   "cell_type": "code",
   "execution_count": 30,
   "id": "d8a1eec7",
   "metadata": {},
   "outputs": [
    {
     "data": {
      "text/plain": [
       "6"
      ]
     },
     "execution_count": 30,
     "metadata": {},
     "output_type": "execute_result"
    }
   ],
   "source": [
    "np.count_nonzero(arr)\n"
   ]
  },
  {
   "cell_type": "code",
   "execution_count": 31,
   "id": "6a672ef7",
   "metadata": {},
   "outputs": [
    {
     "name": "stdout",
     "output_type": "stream",
     "text": [
      "Input  scalar :  12\n",
      "output array from input scalar :  12\n",
      "<class 'numpy.ndarray'>\n"
     ]
    }
   ],
   "source": [
    "import numpy as geek \n",
    "  \n",
    "my_scalar = 12\n",
    "   \n",
    "print (\"Input  scalar : \", my_scalar) \n",
    "    \n",
    "out_arr = geek.asanyarray(my_scalar)  \n",
    "print (\"output array from input scalar : \", out_arr)  \n",
    "print(type(out_arr)) "
   ]
  },
  {
   "cell_type": "code",
   "execution_count": null,
   "id": "55338808",
   "metadata": {},
   "outputs": [],
   "source": []
  }
 ],
 "metadata": {
  "kernelspec": {
   "display_name": "Python 3 (ipykernel)",
   "language": "python",
   "name": "python3"
  },
  "language_info": {
   "codemirror_mode": {
    "name": "ipython",
    "version": 3
   },
   "file_extension": ".py",
   "mimetype": "text/x-python",
   "name": "python",
   "nbconvert_exporter": "python",
   "pygments_lexer": "ipython3",
   "version": "3.11.4"
  }
 },
 "nbformat": 4,
 "nbformat_minor": 5
}
