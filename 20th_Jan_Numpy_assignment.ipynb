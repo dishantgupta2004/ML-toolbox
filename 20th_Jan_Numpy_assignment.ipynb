{
 "cells": [
  {
   "cell_type": "markdown",
   "id": "d5a69509",
   "metadata": {},
   "source": [
    "### 1. What is a Python library? Why ^o we use Python libraries?"
   ]
  },
  {
   "cell_type": "raw",
   "id": "303626f3",
   "metadata": {},
   "source": [
    "A Python library is a collection of related modules that contain prewritten code, which can be used to perform various tasks. \n",
    "We use Python libraries to make programming simpler and more convenient by avoiding the need to write the same code repeatedly \n",
    "for different programs. These libraries play a vital role in fields such as machine learning, data science, and data visualizat\n",
    "- ion. They help in maintaining code modularity, speeding up the development process, and simplifying complex tasks. Python's \n",
    "standard library, which contains built-in modules providing access to system functionality, is an example of a widely used \n",
    "Python library\n"
   ]
  },
  {
   "cell_type": "markdown",
   "id": "144c94e1",
   "metadata": {},
   "source": [
    "### 2. What is the difference between Numpy array and List?"
   ]
  },
  {
   "cell_type": "raw",
   "id": "a28937d3",
   "metadata": {},
   "source": [
    "The main difference between a NumPy array and a list in Python is that NumPy arrays are much faster and have strict requirements\n",
    "on the homogeneity of the objects. Here are the key differences:\n",
    "1. Homogeneity: NumPy arrays have strict requirements on the homogeneity of the objects, meaning they can only contain elements \n",
    "    of the same data type, while Python lists can contain elements of different data types\n",
    "\n",
    "2. Speed: NumPy arrays are much faster for performing operations like calculating mean or sum compared to Python lists, making \n",
    "    them more common in contexts where speed performance is a priority\n",
    "\n",
    "3. Memory efficiency: NumPy arrays are more memory efficient than lists, as they are more compact and store elements in adjacent\n",
    "    memory locations, reducing fragmentation and allowing for efficient access\n",
    "\n",
    "4. Flexibility: Lists are more flexible for general-purpose use and can grow dynamically, while NumPy arrays are more suitable \n",
    "    when the items are of fixed size and the same data type\n",
    "\n",
    "In summary, NumPy arrays are preferred for their speed, memory efficiency, and suitability for homogeneous data, while lists are\n",
    "more flexible and can contain elements of different data types."
   ]
  },
  {
   "cell_type": "code",
   "execution_count": 2,
   "id": "5845412a",
   "metadata": {},
   "outputs": [
    {
     "name": "stdout",
     "output_type": "stream",
     "text": [
      "Time taken by numpy arrays to compute dot product : 0.3650188446044922milliseconds\n"
     ]
    }
   ],
   "source": [
    "import time\n",
    "import numpy as np\n",
    "### creates an array of size 1 lakh elements\n",
    "A = np.random.randint(100000)\n",
    "B = np.random.randint(100000)\n",
    "###now, using time , i will calculate the time difference in computation of dot product of two arrays in this case A and B\n",
    "initial_time = time.time()\n",
    "np.dot(A, B)\n",
    "final_time = time.time()\n",
    "print(\"Time taken by numpy arrays to compute dot product :\",  str((final_time-initial_time)*1000) + \"milliseconds\")"
   ]
  },
  {
   "cell_type": "markdown",
   "id": "f2a6d896",
   "metadata": {},
   "source": [
    "### 3. Find the shape, size and dimension of the following array?\n",
    "### [[1, 2, 3, 4]\n",
    "### [5, 6, 7, 8],\n",
    "### [9, 10, 11, 12]]"
   ]
  },
  {
   "cell_type": "code",
   "execution_count": 3,
   "id": "762e0542",
   "metadata": {},
   "outputs": [
    {
     "name": "stdout",
     "output_type": "stream",
     "text": [
      "size of array means number of elements in array:  12\n",
      "Dmensions of array is  2\n",
      "Shape of array means (number of rows X number of columns) (3, 4)\n"
     ]
    }
   ],
   "source": [
    "arr = np.array([[1,2,3,4],\n",
    "               [5,6,7,8],\n",
    "               [9,10,11,12]])\n",
    "print(\"size of array means number of elements in array: \",arr.size)\n",
    "\n",
    "print(\"Dmensions of array is \", arr.ndim)\n",
    "\n",
    "print(\"Shape of array means (number of rows X number of columns)\", arr.shape)"
   ]
  },
  {
   "cell_type": "markdown",
   "id": "4f71921a",
   "metadata": {},
   "source": [
    "### 4. Write python co^e to access the first row of the following array?\n",
    "### [[1, 2, 3, 4]\n",
    "### [5, 6, 7, 8],\n",
    "### [9, 10, 11, 12]]"
   ]
  },
  {
   "cell_type": "code",
   "execution_count": 4,
   "id": "2badd542",
   "metadata": {},
   "outputs": [
    {
     "name": "stdout",
     "output_type": "stream",
     "text": [
      "First row can be accessed in this way: [[1 2 3 4]]\n",
      "First row can be accessed in another way [[1 2 3 4]]\n"
     ]
    }
   ],
   "source": [
    "### Here array indexing and slicing concept works\n",
    "arr = np.array([[1,2,3,4],\n",
    "               [5,6,7,8],\n",
    "               [9,10,11,12]])\n",
    "print(\"First row can be accessed in this way:\" ,arr[0:1, 0:4])   ## only using slicing of array\n",
    "### arr[rows, columns]\n",
    "print(\"First row can be accessed in another way\", arr[[0], 0:4])   ### slicing and selecting both"
   ]
  },
  {
   "cell_type": "markdown",
   "id": "0bdbece5",
   "metadata": {},
   "source": [
    "### 5. How ^o you access the element at the thir^ row an^ fourth column from the given numpy array?\n",
    "### [[1, 2, 3, 4]\n",
    "### [5, 6, 7, 8],\n",
    "### [9, 10, 11, 12]]"
   ]
  },
  {
   "cell_type": "code",
   "execution_count": 5,
   "id": "e25d9af5",
   "metadata": {},
   "outputs": [
    {
     "name": "stdout",
     "output_type": "stream",
     "text": [
      "Element at third row and 4rd col to be: 12\n",
      "Element at third row and 4rd col to be: [[12]]\n"
     ]
    }
   ],
   "source": [
    "arr = np.array([[1,2,3,4],\n",
    "               [5,6,7,8],\n",
    "               [9,10,11,12]])\n",
    "\n",
    "## to access the third row and fourth colummn element , we can use following menthods\n",
    "print(\"Element at third row and 4rd col to be:\", arr[2][3])  ### it returns an element (scalar)\n",
    "\n",
    "print(\"Element at third row and 4rd col to be:\", arr[2:3, 3:4])  ## it returns an array \n"
   ]
  },
  {
   "cell_type": "markdown",
   "id": "d648201c",
   "metadata": {},
   "source": [
    "### 6. Write code to extract all odd indexed elements from the given numpy array?\n",
    "### [[1, 2, 3, 4]\n",
    "### [5, 6, 7, 8],\n",
    "### [9, 10, 11, 12]]"
   ]
  },
  {
   "cell_type": "code",
   "execution_count": 44,
   "id": "4dc9f819",
   "metadata": {},
   "outputs": [
    {
     "name": "stdout",
     "output_type": "stream",
     "text": [
      "Odd-indexed elements:\n",
      "[[ 2  4]\n",
      " [ 6  8]\n",
      " [10 12]]\n"
     ]
    }
   ],
   "source": [
    "import numpy as np\n",
    "\n",
    "# Given NumPy array\n",
    "arr = np.array([[1, 2, 3, 4],\n",
    "                [5, 6, 7, 8],\n",
    "                [9, 10, 11, 12]])\n",
    "\n",
    "# Extracting all odd-indexed elements\n",
    "odd_indexed_elements = arr[:, 1::2]  # Slicing along the second axis (columns) with step size 2\n",
    "\n",
    "print(\"Odd-indexed elements:\")\n",
    "print(odd_indexed_elements)\n"
   ]
  },
  {
   "cell_type": "markdown",
   "id": "b238a40b",
   "metadata": {},
   "source": [
    "### 7. How can you generate a random 3x3 matrix with values between 0 and 1?"
   ]
  },
  {
   "cell_type": "code",
   "execution_count": 7,
   "id": "9eb39429",
   "metadata": {},
   "outputs": [
    {
     "data": {
      "text/plain": [
       "matrix([[0.0954683 , 0.32955267, 0.57418285],\n",
       "        [0.25548515, 0.45379067, 0.08033365],\n",
       "        [0.30855863, 0.56109131, 0.71436426]])"
      ]
     },
     "execution_count": 7,
     "metadata": {},
     "output_type": "execute_result"
    }
   ],
   "source": [
    "### We can generate random 3X3 matrix using random module in numpy\n",
    "## Random values in a given shape.\n",
    "\n",
    "arr = np.matrix(np.random.rand(3,3))\n",
    "arr"
   ]
  },
  {
   "cell_type": "markdown",
   "id": "6fb5f280",
   "metadata": {},
   "source": [
    "### 8. Describe the difference between np.random.rand and np.random.randn?"
   ]
  },
  {
   "cell_type": "code",
   "execution_count": 8,
   "id": "306ca8d5",
   "metadata": {},
   "outputs": [
    {
     "name": "stdout",
     "output_type": "stream",
     "text": [
      "Array using rand [[0.3594106  0.48445872]\n",
      " [0.17369749 0.41671446]\n",
      " [0.56177493 0.22130305]]\n",
      "Array using randn [[-0.43306598 -1.20501897]\n",
      " [-0.79026197 -1.02027373]\n",
      " [-0.15144083 -0.96391535]]\n"
     ]
    }
   ],
   "source": [
    "# Random values in a given shape.\n",
    "# Create an array of the given shape and populate it with random samples from a uniform distribution over ``[0, 1)``.\n",
    "### Parameters\n",
    "## ----------\n",
    "## d0, d1, ..., dn : int, optional\n",
    "    # The dimensions of the returned array, must be non-negative.\n",
    "    # If no argument is given a single Python float is returned.\n",
    "\n",
    "arr1 = np.random.rand(3,2)\n",
    "\n",
    "#randn(d0, d1, ..., dn)\n",
    "# Return a sample (or samples) from the \"standard normal\" distribution.\n",
    "\n",
    "arr2 = np.random.randn(3,2)\n",
    "\n",
    "print(\"Array using rand\", arr1)\n",
    "print(\"Array using randn\", arr2)"
   ]
  },
  {
   "cell_type": "markdown",
   "id": "c8ed478a",
   "metadata": {},
   "source": [
    "### 9. Write code to increase the dimension of the following array?\n",
    "### [[1, 2, 3, 4]\n",
    "### [5, 6, 7, 8],\n",
    "### [9, 10, 11, 12]]"
   ]
  },
  {
   "cell_type": "code",
   "execution_count": 9,
   "id": "4e5e9544",
   "metadata": {},
   "outputs": [
    {
     "name": "stdout",
     "output_type": "stream",
     "text": [
      "Row wise expansion\n",
      "[[[ 1  2  3  4]\n",
      "  [ 5  6  7  8]\n",
      "  [ 9 10 11 12]]]\n",
      "\n",
      "\n",
      "Column wise expansion\n",
      "[[[ 1  2  3  4]]\n",
      "\n",
      " [[ 5  6  7  8]]\n",
      "\n",
      " [[ 9 10 11 12]]]\n"
     ]
    }
   ],
   "source": [
    "### Here we use expand_dims method to increase dimensions by 1\n",
    "arr = np.array([[1,2,3,4],\n",
    "               [5,6,7,8],\n",
    "               [9,10,11,12]])\n",
    "\n",
    "# np.expand_dims(a, axis) . Expand the shape of an array.Insert a new axis that will appear at the `axis` position in the \n",
    "# expanded array shape.\n",
    "print(\"Row wise expansion\")\n",
    "print(np.expand_dims(arr, axis=0))  ## row wise expansion by 1 dimension\n",
    "\n",
    "print(\"\\n\")\n",
    "print(\"Column wise expansion\")\n",
    "print(np.expand_dims(arr, axis=1))    ### column wise expansion"
   ]
  },
  {
   "cell_type": "markdown",
   "id": "56626058",
   "metadata": {},
   "source": [
    "### 10. How to transpose the following array in NumPy?\n",
    "### [[1, 2, 3, 4]\n",
    "### [5, 6, 7, 8],\n",
    "### [9, 10, 11, 12]]"
   ]
  },
  {
   "cell_type": "code",
   "execution_count": 10,
   "id": "9da7e749",
   "metadata": {},
   "outputs": [
    {
     "data": {
      "text/plain": [
       "array([[ 1,  5,  9],\n",
       "       [ 2,  6, 10],\n",
       "       [ 3,  7, 11],\n",
       "       [ 4,  8, 12]])"
      ]
     },
     "execution_count": 10,
     "metadata": {},
     "output_type": "execute_result"
    }
   ],
   "source": [
    "### transpose means simply interchanging the rows and columns....(arr[i][j] = arr[j][i])\n",
    "### we can use direct attribute availabe in numpy to take transpose\n",
    "arr = np.array([[1,2,3,4],\n",
    "               [5,6,7,8],\n",
    "               [9,10,11,12]])   ## 3X4 array\n",
    "arr.T    ### 4X3 array\n",
    "\n"
   ]
  },
  {
   "cell_type": "markdown",
   "id": "daadb35d",
   "metadata": {},
   "source": [
    "### 11. Consider the following matrix:\n",
    "### Matrix A2 [[1, 2, 3, 4] [5, 6, 7, 8],[9, 10, 11, 12]]\n",
    "### Matrix B2 [[1, 2, 3, 4] [5, 6, 7, 8],[9, 10, 11, 12]]\n",
    "### Perform the following operation using Python1\n",
    "### 1. Index wiLe multiplication\n",
    "### 2. Matix multiplication\n",
    "### 3. Add both the matices\n",
    "### 4. Subtact matrix B from A\n",
    "### 5. Diide Matrix B by A"
   ]
  },
  {
   "cell_type": "code",
   "execution_count": 26,
   "id": "5344ba0f",
   "metadata": {},
   "outputs": [
    {
     "name": "stdout",
     "output_type": "stream",
     "text": [
      "Matrix A is \n",
      "[[ 1  2  3  4]\n",
      " [ 5  6  7  8]\n",
      " [ 9 10 11 12]]\n",
      " \n",
      "matrix B is\n",
      "[[ 1  2  3  4]\n",
      " [ 5  6  7  8]\n",
      " [ 9 10 11 12]]\n",
      "Matrix multiplication is:\n",
      "[[ 30  70 110]\n",
      " [ 70 174 278]\n",
      " [110 278 446]]\n",
      "\n",
      "Sum of matrix is \n",
      "[[ 2  4  6  8]\n",
      " [10 12 14 16]\n",
      " [18 20 22 24]]\n",
      " \n",
      "Subtraction of matrix is: \n",
      "[[0 0 0 0]\n",
      " [0 0 0 0]\n",
      " [0 0 0 0]]\n",
      "Division of B/A\n",
      "[[1. 1. 1. 1.]\n",
      " [1. 1. 1. 1.]\n",
      " [1. 1. 1. 1.]]\n"
     ]
    }
   ],
   "source": [
    "mat1 = np.matrix([[1,2,3,4],[5,6,7,8],[9,10,11,12]])\n",
    "mat2 = np.matrix([[1,2,3,4],[5,6,7,8],[9,10,11,12]])\n",
    "\n",
    "print(\"Matrix A is \")\n",
    "print(mat1)\n",
    "print(\" \")\n",
    "print(\"matrix B is\")\n",
    "print(mat2)\n",
    "\n",
    "print(\"Matrix multiplication is:\")\n",
    "print(np.matmul(mat1, mat2.T))\n",
    "print(\"\")\n",
    "\n",
    "print(\"Sum of matrix is \")\n",
    "print(mat1 + mat2)\n",
    "print(\" \")\n",
    "\n",
    "print(\"Subtraction of matrix is: \")\n",
    "print(mat1 - mat2)\n",
    "\n",
    "print(\"Division of B/A\")\n",
    "print(mat2 / mat1)   ### division only element wise"
   ]
  },
  {
   "cell_type": "markdown",
   "id": "98517c8a",
   "metadata": {},
   "source": [
    "### 12. Which function in Numpy can be used to swap the byte order of an array?"
   ]
  },
  {
   "cell_type": "code",
   "execution_count": 27,
   "id": "d7dfba27",
   "metadata": {},
   "outputs": [
    {
     "name": "stdout",
     "output_type": "stream",
     "text": [
      "Original array is:\n",
      "[[1 2]\n",
      " [3 4]]\n",
      "\n",
      "Swapped array is :\n",
      "[[16777216 33554432]\n",
      " [50331648 67108864]]\n"
     ]
    }
   ],
   "source": [
    "### In NumPy, you can use the byteswap() function to swap the byte order of an array. This function creates a new array with \n",
    "### the byte order swapped, while leaving the original array unchanged.\n",
    "arr = np.array([[1,2],[3,4]])\n",
    "\n",
    "swapped_arr = arr.byteswap()\n",
    "\n",
    "print(\"Original array is:\")\n",
    "print(arr)\n",
    "print('')\n",
    "\n",
    "print(\"Swapped array is :\")\n",
    "print(swapped_arr)"
   ]
  },
  {
   "cell_type": "markdown",
   "id": "5b4798a7",
   "metadata": {},
   "source": [
    "### 13. What is the significance of the np.linalg.inv function?"
   ]
  },
  {
   "cell_type": "code",
   "execution_count": 36,
   "id": "348d1880",
   "metadata": {},
   "outputs": [
    {
     "name": "stdout",
     "output_type": "stream",
     "text": [
      "Inverse of matrix is :\n",
      "[[-0.00833333  0.11666667  0.075     ]\n",
      " [ 0.21666667 -0.03333333  0.05      ]\n",
      " [ 0.18611111  0.06111111 -0.00833333]]\n"
     ]
    }
   ],
   "source": [
    "from numpy.linalg import inv\n",
    "### inv() used to compute the inverse of matrix A and mathematically, inverse of matrix A is adjoint(A) divided by determinant(A)\n",
    "### It is widely used in solving the system of linear equations.\n",
    "### consider system of linear equations be represented as A*X = B WHERE A is matrix of coefficients, X is column matrix containing \n",
    "### variables to find\n",
    "\n",
    "arr = np.array([[-1,2,3],[4,-5,6],[7,8,-9]])\n",
    "\n",
    "inv_arr = inv(arr)\n",
    "print('Inverse of matrix is :')\n",
    "print(inv_arr)\n",
    "\n"
   ]
  },
  {
   "cell_type": "raw",
   "id": "a535d17c",
   "metadata": {},
   "source": [
    "consider the equations to be -x + 2y +3z = 1\n",
    "                            4x -5y + 6z = 2\n",
    "                           7x + 8y - 9z = 3\n",
    "        "
   ]
  },
  {
   "cell_type": "code",
   "execution_count": 42,
   "id": "4eb4997a",
   "metadata": {},
   "outputs": [
    {
     "name": "stdout",
     "output_type": "stream",
     "text": [
      "Coefficient matrix is:\n",
      "[[-1  2  3]\n",
      " [ 4 -5  6]\n",
      " [ 7  8 -9]]\n",
      "\n",
      "Constant b matrix :\n",
      "[[1]\n",
      " [2]\n",
      " [3]]\n",
      "\n",
      "Inverse of coefficient matrix :\n",
      "[[-0.00833333  0.11666667  0.075     ]\n",
      " [ 0.21666667 -0.03333333  0.05      ]\n",
      " [ 0.18611111  0.06111111 -0.00833333]]\n",
      "\n",
      "Solution of matrix:\n",
      "[[0.45      ]\n",
      " [0.3       ]\n",
      " [0.28333333]]\n"
     ]
    }
   ],
   "source": [
    "coeff_mat = np.matrix([[-1,2,3],[4,-5,6],[7,8,-9]])\n",
    "print(\"Coefficient matrix is:\")\n",
    "print(coeff_mat)\n",
    "print(\"\")\n",
    "\n",
    "constant_mat = np.matrix([[1], [2], [3]])\n",
    "print(\"Constant b matrix :\")\n",
    "print(constant_mat)\n",
    "print(\"\")\n",
    "\n",
    "inv_coeff_mat = inv(coeff_mat)\n",
    "print(\"Inverse of coefficient matrix :\")\n",
    "print(inv_coeff_mat)\n",
    "print(\"\")\n",
    "\n",
    "## then solution of matrix is stored in [x,y,z] by np.dot(inv(A), B)\n",
    "solution_mat = np.dot(inv_coeff_mat, constant_mat)\n",
    "print(\"Solution of matrix:\")\n",
    "print(solution_mat)\n"
   ]
  },
  {
   "cell_type": "markdown",
   "id": "8ef82dbd",
   "metadata": {},
   "source": [
    "### 14. What does the np.reshape function do, and how is it used?"
   ]
  },
  {
   "cell_type": "raw",
   "id": "e8af3b03",
   "metadata": {},
   "source": [
    "The np.reshape function in NumPy is used to change the shape of an array without changing its data. It allows you to modify the dimensions of the array while keeping the total number of elements unchanged. This function returns a new array with the specified shape."
   ]
  },
  {
   "cell_type": "code",
   "execution_count": 38,
   "id": "550eba23",
   "metadata": {},
   "outputs": [
    {
     "name": "stdout",
     "output_type": "stream",
     "text": [
      "Original Array:\n",
      "[1 2 3 4 5 6]\n",
      "Reshaped Array:\n",
      "[[1 2 3]\n",
      " [4 5 6]]\n"
     ]
    }
   ],
   "source": [
    "arr = np.array([1, 2, 3, 4, 5, 6])\n",
    "reshaped_arr = np.reshape(arr, (2, 3))\n",
    "print(\"Original Array:\")\n",
    "print(arr)\n",
    "print(\"Reshaped Array:\")\n",
    "print(reshaped_arr)"
   ]
  },
  {
   "cell_type": "markdown",
   "id": "45f8ec4d",
   "metadata": {},
   "source": [
    "### 15. What is broadcasting in Numpy?"
   ]
  },
  {
   "cell_type": "raw",
   "id": "7ce41e14",
   "metadata": {},
   "source": [
    "Broadcasting in NumPy is a powerful mechanism that allows arrays of different shapes to be combined together for arithmetic operations. It enables NumPy to perform element-wise operations on arrays of different shapes without explicitly creating additional copies of data.\n",
    "When operating on arrays of different shapes, NumPy compares their shapes element-wise. It starts with the trailing dimensions and works its way forward. Two dimensions are considered compatible for broadcasting when they are equal or one of them is 1. If the dimensions are unequal and neither of them is 1, NumPy will raise a ValueError indicating that the operation is not possible due to incompatible shapes.\n",
    "\n",
    "Broadcasting can be particularly useful when you want to perform operations on arrays with different shapes, for example, adding a scalar to an array, or adding a row vector to all rows of a matrix."
   ]
  },
  {
   "cell_type": "code",
   "execution_count": 40,
   "id": "d513979b",
   "metadata": {},
   "outputs": [
    {
     "name": "stdout",
     "output_type": "stream",
     "text": [
      "[[ 2  4  6]\n",
      " [ 5  7  9]\n",
      " [ 8 10 12]]\n"
     ]
    }
   ],
   "source": [
    "A = np.array([[1, 2, 3],\n",
    "              [4, 5, 6],\n",
    "              [7, 8, 9]])\n",
    "\n",
    "B = np.array([1, 2, 3])\n",
    "\n",
    "result = A + B\n",
    "\n",
    "print(result)"
   ]
  },
  {
   "cell_type": "code",
   "execution_count": null,
   "id": "91c13c4b",
   "metadata": {},
   "outputs": [],
   "source": []
  }
 ],
 "metadata": {
  "kernelspec": {
   "display_name": "Python 3 (ipykernel)",
   "language": "python",
   "name": "python3"
  },
  "language_info": {
   "codemirror_mode": {
    "name": "ipython",
    "version": 3
   },
   "file_extension": ".py",
   "mimetype": "text/x-python",
   "name": "python",
   "nbconvert_exporter": "python",
   "pygments_lexer": "ipython3",
   "version": "3.11.4"
  }
 },
 "nbformat": 4,
 "nbformat_minor": 5
}
